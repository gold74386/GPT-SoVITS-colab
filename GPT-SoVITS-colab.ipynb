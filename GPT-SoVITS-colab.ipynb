{
  "cells": [
    {
      "cell_type": "markdown",
      "metadata": {
        "id": "view-in-github"
      },
      "source": [
        "[![Open In Colab](https://colab.research.google.com/assets/colab-badge.svg)](https://colab.research.google.com/github/tyc0on/GPT-SoVITS-colab/blob/main/GPT-SoVITS-colab.ipynb)"
      ]
    },
    {
      "cell_type": "code",
      "execution_count": null,
      "metadata": {
        "id": "VjYy0F2gZIPR"
      },
      "outputs": [],
      "source": [
        "%cd /content\n",
        "!git clone https://github.com/RVC-Boss/GPT-SoVITS\n",
        "%cd /content/GPT-SoVITS\n",
        "\n",
        "!conda install -c conda-forge gcc gxx ffmpeg cmake\n",
        "!conda install pytorch==2.1.1 torchvision==0.16.1 torchaudio==2.1.1 pytorch-cuda=11.8 -c pytorch -c nvidia\n",
        "\n",
        "!pip install pyyaml  # This addresses the ModuleNotFoundError for yaml\n",
        "!pip install numba==0.56.4  # Trying to install numba separately to see if it resolves the issue\n",
        "\n",
        "!pip install -r requirements.txt\n",
        "\n",
        "!python webui.py"
      ]
    }
  ],
  "metadata": {
    "accelerator": "GPU",
    "colab": {
      "gpuType": "T4",
      "provenance": []
    },
    "kernelspec": {
      "display_name": "Python 3",
      "name": "python3"
    },
    "language_info": {
      "name": "python"
    }
  },
  "nbformat": 4,
  "nbformat_minor": 0
}
